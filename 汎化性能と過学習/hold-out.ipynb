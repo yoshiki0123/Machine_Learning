{
 "cells": [
  {
   "cell_type": "markdown",
   "id": "776a6f70-5148-440f-9e85-048bcc2a4927",
   "metadata": {},
   "source": [
    "# hold-out"
   ]
  },
  {
   "cell_type": "code",
   "execution_count": 46,
   "id": "e0578f1a-cc61-4d4a-b069-5c173ecdc102",
   "metadata": {},
   "outputs": [],
   "source": [
    "import seaborn as sns\n",
    "import pandas as pd\n",
    "import numpy as np\n",
    "from sklearn.model_selection import train_test_split\n",
    "df = sns.load_dataset('tips')\n",
    "y_col = 'tip'\n",
    "X = df.drop(columns=[y_col])\n",
    "# 標準化のために数値データのカラムリストを取得\n",
    "numeric_cols = X.select_dtypes(include=np.number).columns.to_list()\n",
    "X = pd.get_dummies(X, drop_first=True)\n",
    "y = df[y_col]\n",
    "X_train, X_test, y_train, y_test = train_test_split(X, y, test_size=0.3, random_state=0)\n"
   ]
  },
  {
   "cell_type": "code",
   "execution_count": 53,
   "id": "c756e988-68d1-4d77-a002-fedf72c1daef",
   "metadata": {},
   "outputs": [],
   "source": [
    "# 標準化\n",
    "# 標準化は分割した後に行う -> テストデータを標準化しないため\n",
    "from sklearn.preprocessing import StandardScaler\n",
    "scaler = StandardScaler()\n",
    "X_train_scaled = X_train.copy()\n",
    "scaler.fit(X_train[numeric_cols])\n",
    "# 数値カラムのみ標準化\n",
    "X_train_scaled[numeric_cols] = scaler.transform(X_train[numeric_cols])\n",
    "X_test_scaled = X_test.copy()\n",
    "# テストデータの標準化は訓練データの値で行う\n",
    "X_test_scaled[numeric_cols] = scaler.transform(X_test_scaled[numeric_cols])"
   ]
  },
  {
   "cell_type": "code",
   "execution_count": 55,
   "id": "0fe1155d-545b-4c7b-b475-05c6d6135692",
   "metadata": {},
   "outputs": [
    {
     "data": {
      "text/plain": [
       "244"
      ]
     },
     "execution_count": 55,
     "metadata": {},
     "output_type": "execute_result"
    }
   ],
   "source": [
    "len(y)"
   ]
  },
  {
   "cell_type": "code",
   "execution_count": 48,
   "id": "1254e296-7efb-4ae4-9968-00ebcc45f53e",
   "metadata": {},
   "outputs": [
    {
     "data": {
      "text/plain": [
       "total_bill    -9.796086e-17\n",
       "size          -1.280022e-16\n",
       "sex_Female     3.176471e-01\n",
       "smoker_No      6.588235e-01\n",
       "day_Fri        5.294118e-02\n",
       "day_Sat        3.588235e-01\n",
       "day_Sun        3.058824e-01\n",
       "time_Dinner    7.058824e-01\n",
       "dtype: float64"
      ]
     },
     "execution_count": 48,
     "metadata": {},
     "output_type": "execute_result"
    }
   ],
   "source": [
    "X_train_scaled.mean()"
   ]
  },
  {
   "cell_type": "code",
   "execution_count": 49,
   "id": "7e375eae-11aa-4072-8264-eace69e766d4",
   "metadata": {},
   "outputs": [
    {
     "data": {
      "text/plain": [
       "total_bill     1.002954\n",
       "size           1.002954\n",
       "sex_Female     0.466937\n",
       "smoker_No      0.475505\n",
       "day_Fri        0.224578\n",
       "day_Sat        0.481072\n",
       "day_Sun        0.462141\n",
       "time_Dinner    0.456991\n",
       "dtype: float64"
      ]
     },
     "execution_count": 49,
     "metadata": {},
     "output_type": "execute_result"
    }
   ],
   "source": [
    "X_train_scaled.std()"
   ]
  },
  {
   "cell_type": "code",
   "execution_count": 50,
   "id": "f3c93bb7-1b17-4e46-bca3-f768154a8d61",
   "metadata": {},
   "outputs": [
    {
     "data": {
      "text/plain": [
       "total_bill    -0.088666\n",
       "size          -0.003263\n",
       "sex_Female     0.445946\n",
       "smoker_No      0.527027\n",
       "day_Fri        0.135135\n",
       "day_Sat        0.351351\n",
       "day_Sun        0.324324\n",
       "time_Dinner    0.756757\n",
       "dtype: float64"
      ]
     },
     "execution_count": 50,
     "metadata": {},
     "output_type": "execute_result"
    }
   ],
   "source": [
    "X_test_scaled.mean()"
   ]
  },
  {
   "cell_type": "code",
   "execution_count": 51,
   "id": "99763658-5ba2-43df-8214-f49e62ed9eaf",
   "metadata": {},
   "outputs": [
    {
     "data": {
      "text/plain": [
       "total_bill     0.916074\n",
       "size           1.088917\n",
       "sex_Female     0.500463\n",
       "smoker_No      0.502677\n",
       "day_Fri        0.344201\n",
       "day_Sat        0.480651\n",
       "day_Sun        0.471317\n",
       "time_Dinner    0.431969\n",
       "dtype: float64"
      ]
     },
     "execution_count": 51,
     "metadata": {},
     "output_type": "execute_result"
    }
   ],
   "source": [
    "X_test_scaled.std()"
   ]
  },
  {
   "cell_type": "markdown",
   "id": "ae2ffe3a-0567-4d47-ad51-021bc8c13bec",
   "metadata": {},
   "source": [
    " 訓練データの値で標準化を行っているのでテストデータは平均が0になっていない"
   ]
  },
  {
   "cell_type": "code",
   "execution_count": 57,
   "id": "6a2ef595-1e20-4e6d-9599-ef271922480c",
   "metadata": {},
   "outputs": [],
   "source": [
    "# 線形回帰モデル学習\n",
    "from sklearn.linear_model import LinearRegression\n",
    "model = LinearRegression()\n",
    "model.fit(X_train_scaled, y_train)\n",
    "y_pred = model.predict(X_test_scaled)"
   ]
  },
  {
   "cell_type": "code",
   "execution_count": 61,
   "id": "29f964de-e19b-4cc9-9b7a-c1b53491f2ce",
   "metadata": {},
   "outputs": [
    {
     "data": {
      "text/plain": [
       "0.955080898861715"
      ]
     },
     "execution_count": 61,
     "metadata": {},
     "output_type": "execute_result"
    }
   ],
   "source": [
    "# モデルの精度　MSE\n",
    "from sklearn.metrics import mean_squared_error\n",
    "mean_squared_error(y_test, y_pred)"
   ]
  }
 ],
 "metadata": {
  "kernelspec": {
   "display_name": "Python 3",
   "language": "python",
   "name": "python3"
  },
  "language_info": {
   "codemirror_mode": {
    "name": "ipython",
    "version": 3
   },
   "file_extension": ".py",
   "mimetype": "text/x-python",
   "name": "python",
   "nbconvert_exporter": "python",
   "pygments_lexer": "ipython3",
   "version": "3.8.8"
  }
 },
 "nbformat": 4,
 "nbformat_minor": 5
}
